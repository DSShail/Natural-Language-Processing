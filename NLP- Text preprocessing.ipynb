{
 "cells": [
  {
   "cell_type": "markdown",
   "id": "024a29c2",
   "metadata": {},
   "source": [
    "## Text Preprocessing\n",
    "\n",
    "Text preprocessing is second step in NLP pipeline.First Step is data accusation(data collection). It is also said that text-preprocessing steps are dimensionality reduction steps"
   ]
  },
  {
   "cell_type": "markdown",
   "id": "f5816f41",
   "metadata": {},
   "source": [
    "#### 1. LOWER CASING\n",
    "##### Converting each case to lower case or upper case. Generally lower case is followed."
   ]
  },
  {
   "cell_type": "code",
   "execution_count": 3,
   "id": "a1db1b3d",
   "metadata": {},
   "outputs": [
    {
     "data": {
      "text/plain": [
       "'books are on the table'"
      ]
     },
     "execution_count": 3,
     "metadata": {},
     "output_type": "execute_result"
    }
   ],
   "source": [
    "sentence=\"Books are on the Table\"\n",
    "sentence.lower()"
   ]
  },
  {
   "cell_type": "markdown",
   "id": "aa2a3d14",
   "metadata": {},
   "source": [
    "##### Try learning REGEX for below text preprocessing steps\n",
    "####    Remove HTML Tags\n",
    "####    Remove URLs\n",
    "####    Remove Punctuations"
   ]
  },
  {
   "cell_type": "markdown",
   "id": "ffdb7af7",
   "metadata": {},
   "source": [
    "#### 2. REMOVE PUNCTUATIONS"
   ]
  },
  {
   "cell_type": "code",
   "execution_count": 8,
   "id": "f480aaa8",
   "metadata": {},
   "outputs": [],
   "source": [
    "import string\n",
    "exclude=string.punctuation\n",
    "\n",
    "#define a method to remove punctuations\n",
    "def remove_punctuation(text):\n",
    "    for char in exclude:\n",
    "        text=text.replace(char,'')\n",
    "    return text"
   ]
  },
  {
   "cell_type": "code",
   "execution_count": 9,
   "id": "0c86956b",
   "metadata": {},
   "outputs": [
    {
     "name": "stdout",
     "output_type": "stream",
     "text": [
      "My name is shailesh kumar\n"
     ]
    }
   ],
   "source": [
    "text=\"My name! is shailesh? kumar:\"\n",
    "\n",
    "removed_punc_text=remove_punctuation(text)\n",
    "print(removed_punc_text)"
   ]
  },
  {
   "cell_type": "markdown",
   "id": "5edf007f",
   "metadata": {},
   "source": [
    "#### TOKENIZATION\n",
    "#### There are two types of tokenization- word tokenization and sentence tokenization"
   ]
  },
  {
   "cell_type": "markdown",
   "id": "e642908d",
   "metadata": {},
   "source": [
    "#### 1. using split function"
   ]
  },
  {
   "cell_type": "code",
   "execution_count": 13,
   "id": "2c3bb4cd",
   "metadata": {},
   "outputs": [
    {
     "data": {
      "text/plain": [
       "['Tokenization',\n",
       " 'is',\n",
       " 'a',\n",
       " 'process',\n",
       " 'of',\n",
       " 'breaking',\n",
       " 'words/sentence',\n",
       " 'into',\n",
       " 'smaller',\n",
       " 'parts']"
      ]
     },
     "execution_count": 13,
     "metadata": {},
     "output_type": "execute_result"
    }
   ],
   "source": [
    "#Tokenization using split function\n",
    "#WORD TOKENIZATIONS\n",
    "sent1=\"Tokenization is a process of breaking words/sentence into smaller parts\"\n",
    "sent1.split()\n",
    "\n",
    "#split functions splits the sentence into a list of words"
   ]
  },
  {
   "cell_type": "code",
   "execution_count": 14,
   "id": "691d4a10",
   "metadata": {},
   "outputs": [
    {
     "data": {
      "text/plain": [
       "['We are using split function to demonstrate sentence tokenization',\n",
       " ' It contains more than one sentence',\n",
       " \" Let's hope it works\"]"
      ]
     },
     "execution_count": 14,
     "metadata": {},
     "output_type": "execute_result"
    }
   ],
   "source": [
    "#SENTENCE TOKENIZATION\n",
    "\n",
    "sent2=\"We are using split function to demonstrate sentence tokenization. It contains more than one sentence. Let's hope it works\"\n",
    "\n",
    "#splitting a paragraph based on full stop\n",
    "sent2.split('.')"
   ]
  },
  {
   "cell_type": "markdown",
   "id": "5ec1178a",
   "metadata": {},
   "source": [
    "##### problems with split function"
   ]
  },
  {
   "cell_type": "code",
   "execution_count": 16,
   "id": "17253127",
   "metadata": {},
   "outputs": [
    {
     "data": {
      "text/plain": [
       "['problem', 'with', 'split', 'function!', 'function']"
      ]
     },
     "execution_count": 16,
     "metadata": {},
     "output_type": "execute_result"
    }
   ],
   "source": [
    "sent3=\"problem with split function! function\"\n",
    "sent3.split()"
   ]
  },
  {
   "cell_type": "markdown",
   "id": "f100ae13",
   "metadata": {},
   "source": [
    "##### in the above ouput \"function\" and \"function!\"- they have the same meaning but the model will get confused because of exclamation marks. Split function will fail when a paragraph contains more than punctuations like(? . etc) as split can use only one argument"
   ]
  },
  {
   "cell_type": "markdown",
   "id": "93c2b57e",
   "metadata": {},
   "source": [
    "#### 2. Using Regular expression"
   ]
  },
  {
   "cell_type": "markdown",
   "id": "a3d5fe8a",
   "metadata": {},
   "source": [
    "#### 3. Using NLTK library"
   ]
  },
  {
   "cell_type": "markdown",
   "id": "49e72046",
   "metadata": {},
   "source": [
    "#### 4. Using Spacy Library"
   ]
  },
  {
   "cell_type": "markdown",
   "id": "e75bfa7c",
   "metadata": {},
   "source": [
    "### STEMMING\n",
    "#### It is process of reducing a word to it's stem that affixes to prefix and suffix or to the roots of the word known as LEMMAS"
   ]
  },
  {
   "cell_type": "markdown",
   "id": "cbba1055",
   "metadata": {},
   "source": [
    "#### Infection: In Grammer, infection is modification of a word to  express different grammatical categories such as tense,case,voice,aspect,person,number,gender,mood."
   ]
  },
  {
   "cell_type": "markdown",
   "id": "fc7259c7",
   "metadata": {},
   "source": [
    "##### It is the process of reducing infection in words to their root forms such as mapping a group of words to same stem even though the stem is not a valid word in that language"
   ]
  },
  {
   "cell_type": "markdown",
   "id": "d127dd54",
   "metadata": {},
   "source": [
    "### Lemmatization: lemmatization unlike stemming reduces the infected words properly ensuring that the root words belongs to the language.In lemmatization root word is called lemma. A Lemma(in prural lemmas or lemmata) is the canonical form,dictionay form or a citation form of a set of words"
   ]
  },
  {
   "cell_type": "markdown",
   "id": "55d27270",
   "metadata": {},
   "source": [
    "#### STEMMERS- These are algo. which performs stemming\n",
    "####    NLTK- PORTER stemmers, SNOW BALL stemmer"
   ]
  },
  {
   "cell_type": "code",
   "execution_count": null,
   "id": "f0784376",
   "metadata": {},
   "outputs": [],
   "source": []
  }
 ],
 "metadata": {
  "kernelspec": {
   "display_name": "Python 3 (ipykernel)",
   "language": "python",
   "name": "python3"
  },
  "language_info": {
   "codemirror_mode": {
    "name": "ipython",
    "version": 3
   },
   "file_extension": ".py",
   "mimetype": "text/x-python",
   "name": "python",
   "nbconvert_exporter": "python",
   "pygments_lexer": "ipython3",
   "version": "3.10.9"
  }
 },
 "nbformat": 4,
 "nbformat_minor": 5
}
